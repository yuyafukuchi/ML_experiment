{
 "cells": [
  {
   "cell_type": "code",
   "execution_count": 19,
   "metadata": {},
   "outputs": [],
   "source": [
    "import pandas as pd\n",
    "import matplotlib.pyplot as plt\n",
    "import numpy as np\n",
    "from pathlib import Path\n"
   ]
  },
  {
   "cell_type": "code",
   "execution_count": 2,
   "metadata": {},
   "outputs": [],
   "source": [
    "DATAPATH = '../dataset/open_bandit_dataset/random/all/all.csv'"
   ]
  },
  {
   "cell_type": "code",
   "execution_count": 8,
   "metadata": {},
   "outputs": [],
   "source": [
    "df = pd.read_csv(DATAPATH,index_col=False)"
   ]
  },
  {
   "cell_type": "code",
   "execution_count": 12,
   "metadata": {},
   "outputs": [
    {
     "data": {
      "text/plain": [
       "0.0034693344451502445"
      ]
     },
     "execution_count": 12,
     "metadata": {},
     "output_type": "execute_result"
    }
   ],
   "source": [
    "df['click'].mean()"
   ]
  },
  {
   "cell_type": "code",
   "execution_count": 10,
   "metadata": {},
   "outputs": [
    {
     "name": "stdout",
     "output_type": "stream",
     "text": [
      "<class 'pandas.core.frame.DataFrame'>\n",
      "RangeIndex: 1374327 entries, 0 to 1374326\n",
      "Data columns (total 90 columns):\n",
      " #   Column                 Non-Null Count    Dtype  \n",
      "---  ------                 --------------    -----  \n",
      " 0   Unnamed: 0             1374327 non-null  int64  \n",
      " 1   timestamp              1374327 non-null  object \n",
      " 2   item_id                1374327 non-null  int64  \n",
      " 3   position               1374327 non-null  int64  \n",
      " 4   click                  1374327 non-null  int64  \n",
      " 5   propensity_score       1374327 non-null  float64\n",
      " 6   user_feature_0         1374327 non-null  object \n",
      " 7   user_feature_1         1374327 non-null  object \n",
      " 8   user_feature_2         1374327 non-null  object \n",
      " 9   user_feature_3         1374327 non-null  object \n",
      " 10  user-item_affinity_0   1374327 non-null  float64\n",
      " 11  user-item_affinity_1   1374327 non-null  float64\n",
      " 12  user-item_affinity_2   1374327 non-null  float64\n",
      " 13  user-item_affinity_3   1374327 non-null  float64\n",
      " 14  user-item_affinity_4   1374327 non-null  float64\n",
      " 15  user-item_affinity_5   1374327 non-null  float64\n",
      " 16  user-item_affinity_6   1374327 non-null  float64\n",
      " 17  user-item_affinity_7   1374327 non-null  float64\n",
      " 18  user-item_affinity_8   1374327 non-null  float64\n",
      " 19  user-item_affinity_9   1374327 non-null  float64\n",
      " 20  user-item_affinity_10  1374327 non-null  float64\n",
      " 21  user-item_affinity_11  1374327 non-null  float64\n",
      " 22  user-item_affinity_12  1374327 non-null  float64\n",
      " 23  user-item_affinity_13  1374327 non-null  float64\n",
      " 24  user-item_affinity_14  1374327 non-null  float64\n",
      " 25  user-item_affinity_15  1374327 non-null  float64\n",
      " 26  user-item_affinity_16  1374327 non-null  float64\n",
      " 27  user-item_affinity_17  1374327 non-null  float64\n",
      " 28  user-item_affinity_18  1374327 non-null  float64\n",
      " 29  user-item_affinity_19  1374327 non-null  float64\n",
      " 30  user-item_affinity_20  1374327 non-null  float64\n",
      " 31  user-item_affinity_21  1374327 non-null  float64\n",
      " 32  user-item_affinity_22  1374327 non-null  float64\n",
      " 33  user-item_affinity_23  1374327 non-null  float64\n",
      " 34  user-item_affinity_24  1374327 non-null  float64\n",
      " 35  user-item_affinity_25  1374327 non-null  float64\n",
      " 36  user-item_affinity_26  1374327 non-null  float64\n",
      " 37  user-item_affinity_27  1374327 non-null  float64\n",
      " 38  user-item_affinity_28  1374327 non-null  float64\n",
      " 39  user-item_affinity_29  1374327 non-null  float64\n",
      " 40  user-item_affinity_30  1374327 non-null  float64\n",
      " 41  user-item_affinity_31  1374327 non-null  float64\n",
      " 42  user-item_affinity_32  1374327 non-null  float64\n",
      " 43  user-item_affinity_33  1374327 non-null  float64\n",
      " 44  user-item_affinity_34  1374327 non-null  float64\n",
      " 45  user-item_affinity_35  1374327 non-null  float64\n",
      " 46  user-item_affinity_36  1374327 non-null  float64\n",
      " 47  user-item_affinity_37  1374327 non-null  float64\n",
      " 48  user-item_affinity_38  1374327 non-null  float64\n",
      " 49  user-item_affinity_39  1374327 non-null  float64\n",
      " 50  user-item_affinity_40  1374327 non-null  float64\n",
      " 51  user-item_affinity_41  1374327 non-null  float64\n",
      " 52  user-item_affinity_42  1374327 non-null  float64\n",
      " 53  user-item_affinity_43  1374327 non-null  float64\n",
      " 54  user-item_affinity_44  1374327 non-null  float64\n",
      " 55  user-item_affinity_45  1374327 non-null  float64\n",
      " 56  user-item_affinity_46  1374327 non-null  float64\n",
      " 57  user-item_affinity_47  1374327 non-null  float64\n",
      " 58  user-item_affinity_48  1374327 non-null  float64\n",
      " 59  user-item_affinity_49  1374327 non-null  float64\n",
      " 60  user-item_affinity_50  1374327 non-null  float64\n",
      " 61  user-item_affinity_51  1374327 non-null  float64\n",
      " 62  user-item_affinity_52  1374327 non-null  float64\n",
      " 63  user-item_affinity_53  1374327 non-null  float64\n",
      " 64  user-item_affinity_54  1374327 non-null  float64\n",
      " 65  user-item_affinity_55  1374327 non-null  float64\n",
      " 66  user-item_affinity_56  1374327 non-null  float64\n",
      " 67  user-item_affinity_57  1374327 non-null  float64\n",
      " 68  user-item_affinity_58  1374327 non-null  float64\n",
      " 69  user-item_affinity_59  1374327 non-null  float64\n",
      " 70  user-item_affinity_60  1374327 non-null  float64\n",
      " 71  user-item_affinity_61  1374327 non-null  float64\n",
      " 72  user-item_affinity_62  1374327 non-null  float64\n",
      " 73  user-item_affinity_63  1374327 non-null  float64\n",
      " 74  user-item_affinity_64  1374327 non-null  float64\n",
      " 75  user-item_affinity_65  1374327 non-null  float64\n",
      " 76  user-item_affinity_66  1374327 non-null  float64\n",
      " 77  user-item_affinity_67  1374327 non-null  float64\n",
      " 78  user-item_affinity_68  1374327 non-null  float64\n",
      " 79  user-item_affinity_69  1374327 non-null  float64\n",
      " 80  user-item_affinity_70  1374327 non-null  float64\n",
      " 81  user-item_affinity_71  1374327 non-null  float64\n",
      " 82  user-item_affinity_72  1374327 non-null  float64\n",
      " 83  user-item_affinity_73  1374327 non-null  float64\n",
      " 84  user-item_affinity_74  1374327 non-null  float64\n",
      " 85  user-item_affinity_75  1374327 non-null  float64\n",
      " 86  user-item_affinity_76  1374327 non-null  float64\n",
      " 87  user-item_affinity_77  1374327 non-null  float64\n",
      " 88  user-item_affinity_78  1374327 non-null  float64\n",
      " 89  user-item_affinity_79  1374327 non-null  float64\n",
      "dtypes: float64(81), int64(4), object(5)\n",
      "memory usage: 943.7+ MB\n"
     ]
    }
   ],
   "source": [
    "df.info()"
   ]
  },
  {
   "cell_type": "code",
   "execution_count": 13,
   "metadata": {},
   "outputs": [
    {
     "data": {
      "text/html": [
       "<div>\n",
       "<style scoped>\n",
       "    .dataframe tbody tr th:only-of-type {\n",
       "        vertical-align: middle;\n",
       "    }\n",
       "\n",
       "    .dataframe tbody tr th {\n",
       "        vertical-align: top;\n",
       "    }\n",
       "\n",
       "    .dataframe thead th {\n",
       "        text-align: right;\n",
       "    }\n",
       "</style>\n",
       "<table border=\"1\" class=\"dataframe\">\n",
       "  <thead>\n",
       "    <tr style=\"text-align: right;\">\n",
       "      <th></th>\n",
       "      <th>Unnamed: 0</th>\n",
       "      <th>timestamp</th>\n",
       "      <th>item_id</th>\n",
       "      <th>position</th>\n",
       "      <th>click</th>\n",
       "      <th>propensity_score</th>\n",
       "      <th>user_feature_0</th>\n",
       "      <th>user_feature_1</th>\n",
       "      <th>user_feature_2</th>\n",
       "      <th>user_feature_3</th>\n",
       "      <th>...</th>\n",
       "      <th>user-item_affinity_70</th>\n",
       "      <th>user-item_affinity_71</th>\n",
       "      <th>user-item_affinity_72</th>\n",
       "      <th>user-item_affinity_73</th>\n",
       "      <th>user-item_affinity_74</th>\n",
       "      <th>user-item_affinity_75</th>\n",
       "      <th>user-item_affinity_76</th>\n",
       "      <th>user-item_affinity_77</th>\n",
       "      <th>user-item_affinity_78</th>\n",
       "      <th>user-item_affinity_79</th>\n",
       "    </tr>\n",
       "  </thead>\n",
       "  <tbody>\n",
       "    <tr>\n",
       "      <th>0</th>\n",
       "      <td>0</td>\n",
       "      <td>2019-11-24 00:00:00.007365+00:00</td>\n",
       "      <td>21</td>\n",
       "      <td>1</td>\n",
       "      <td>0</td>\n",
       "      <td>0.0125</td>\n",
       "      <td>574464659df0fc5bac579eff2b1fff99</td>\n",
       "      <td>a05b66683c9a38a761122e14ef9a0f6c</td>\n",
       "      <td>3a845d98884c222862996aadd75584c5</td>\n",
       "      <td>397559c512c5db37e09011ba61bcc333</td>\n",
       "      <td>...</td>\n",
       "      <td>0.0</td>\n",
       "      <td>0.0</td>\n",
       "      <td>0.0</td>\n",
       "      <td>0.0</td>\n",
       "      <td>0.0</td>\n",
       "      <td>0.0</td>\n",
       "      <td>0.0</td>\n",
       "      <td>0.0</td>\n",
       "      <td>0.0</td>\n",
       "      <td>0.0</td>\n",
       "    </tr>\n",
       "    <tr>\n",
       "      <th>1</th>\n",
       "      <td>1</td>\n",
       "      <td>2019-11-24 00:00:00.015668+00:00</td>\n",
       "      <td>43</td>\n",
       "      <td>2</td>\n",
       "      <td>0</td>\n",
       "      <td>0.0125</td>\n",
       "      <td>574464659df0fc5bac579eff2b1fff99</td>\n",
       "      <td>a05b66683c9a38a761122e14ef9a0f6c</td>\n",
       "      <td>3a845d98884c222862996aadd75584c5</td>\n",
       "      <td>397559c512c5db37e09011ba61bcc333</td>\n",
       "      <td>...</td>\n",
       "      <td>0.0</td>\n",
       "      <td>0.0</td>\n",
       "      <td>0.0</td>\n",
       "      <td>0.0</td>\n",
       "      <td>0.0</td>\n",
       "      <td>0.0</td>\n",
       "      <td>0.0</td>\n",
       "      <td>0.0</td>\n",
       "      <td>0.0</td>\n",
       "      <td>0.0</td>\n",
       "    </tr>\n",
       "    <tr>\n",
       "      <th>2</th>\n",
       "      <td>2</td>\n",
       "      <td>2019-11-24 00:00:00.016438+00:00</td>\n",
       "      <td>62</td>\n",
       "      <td>3</td>\n",
       "      <td>0</td>\n",
       "      <td>0.0125</td>\n",
       "      <td>574464659df0fc5bac579eff2b1fff99</td>\n",
       "      <td>a05b66683c9a38a761122e14ef9a0f6c</td>\n",
       "      <td>3a845d98884c222862996aadd75584c5</td>\n",
       "      <td>397559c512c5db37e09011ba61bcc333</td>\n",
       "      <td>...</td>\n",
       "      <td>0.0</td>\n",
       "      <td>0.0</td>\n",
       "      <td>0.0</td>\n",
       "      <td>0.0</td>\n",
       "      <td>0.0</td>\n",
       "      <td>0.0</td>\n",
       "      <td>0.0</td>\n",
       "      <td>0.0</td>\n",
       "      <td>0.0</td>\n",
       "      <td>0.0</td>\n",
       "    </tr>\n",
       "    <tr>\n",
       "      <th>3</th>\n",
       "      <td>3</td>\n",
       "      <td>2019-11-24 00:00:01.856987+00:00</td>\n",
       "      <td>8</td>\n",
       "      <td>2</td>\n",
       "      <td>0</td>\n",
       "      <td>0.0125</td>\n",
       "      <td>81ce123cbb5bd8ce818f60fb3586bba5</td>\n",
       "      <td>03a5648a76832f83c859d46bc06cb64a</td>\n",
       "      <td>2723d2eb8bba04e0362098011fa3997b</td>\n",
       "      <td>c39b0c7dd5d4eb9a18e7db6ba2f258f8</td>\n",
       "      <td>...</td>\n",
       "      <td>0.0</td>\n",
       "      <td>0.0</td>\n",
       "      <td>0.0</td>\n",
       "      <td>0.0</td>\n",
       "      <td>0.0</td>\n",
       "      <td>0.0</td>\n",
       "      <td>0.0</td>\n",
       "      <td>0.0</td>\n",
       "      <td>0.0</td>\n",
       "      <td>0.0</td>\n",
       "    </tr>\n",
       "    <tr>\n",
       "      <th>4</th>\n",
       "      <td>4</td>\n",
       "      <td>2019-11-24 00:00:01.857185+00:00</td>\n",
       "      <td>45</td>\n",
       "      <td>1</td>\n",
       "      <td>0</td>\n",
       "      <td>0.0125</td>\n",
       "      <td>81ce123cbb5bd8ce818f60fb3586bba5</td>\n",
       "      <td>03a5648a76832f83c859d46bc06cb64a</td>\n",
       "      <td>2723d2eb8bba04e0362098011fa3997b</td>\n",
       "      <td>c39b0c7dd5d4eb9a18e7db6ba2f258f8</td>\n",
       "      <td>...</td>\n",
       "      <td>0.0</td>\n",
       "      <td>0.0</td>\n",
       "      <td>0.0</td>\n",
       "      <td>0.0</td>\n",
       "      <td>0.0</td>\n",
       "      <td>0.0</td>\n",
       "      <td>0.0</td>\n",
       "      <td>0.0</td>\n",
       "      <td>0.0</td>\n",
       "      <td>0.0</td>\n",
       "    </tr>\n",
       "  </tbody>\n",
       "</table>\n",
       "<p>5 rows × 90 columns</p>\n",
       "</div>"
      ],
      "text/plain": [
       "   Unnamed: 0                         timestamp  item_id  position  click  \\\n",
       "0           0  2019-11-24 00:00:00.007365+00:00       21         1      0   \n",
       "1           1  2019-11-24 00:00:00.015668+00:00       43         2      0   \n",
       "2           2  2019-11-24 00:00:00.016438+00:00       62         3      0   \n",
       "3           3  2019-11-24 00:00:01.856987+00:00        8         2      0   \n",
       "4           4  2019-11-24 00:00:01.857185+00:00       45         1      0   \n",
       "\n",
       "   propensity_score                    user_feature_0  \\\n",
       "0            0.0125  574464659df0fc5bac579eff2b1fff99   \n",
       "1            0.0125  574464659df0fc5bac579eff2b1fff99   \n",
       "2            0.0125  574464659df0fc5bac579eff2b1fff99   \n",
       "3            0.0125  81ce123cbb5bd8ce818f60fb3586bba5   \n",
       "4            0.0125  81ce123cbb5bd8ce818f60fb3586bba5   \n",
       "\n",
       "                     user_feature_1                    user_feature_2  \\\n",
       "0  a05b66683c9a38a761122e14ef9a0f6c  3a845d98884c222862996aadd75584c5   \n",
       "1  a05b66683c9a38a761122e14ef9a0f6c  3a845d98884c222862996aadd75584c5   \n",
       "2  a05b66683c9a38a761122e14ef9a0f6c  3a845d98884c222862996aadd75584c5   \n",
       "3  03a5648a76832f83c859d46bc06cb64a  2723d2eb8bba04e0362098011fa3997b   \n",
       "4  03a5648a76832f83c859d46bc06cb64a  2723d2eb8bba04e0362098011fa3997b   \n",
       "\n",
       "                     user_feature_3  ...  user-item_affinity_70  \\\n",
       "0  397559c512c5db37e09011ba61bcc333  ...                    0.0   \n",
       "1  397559c512c5db37e09011ba61bcc333  ...                    0.0   \n",
       "2  397559c512c5db37e09011ba61bcc333  ...                    0.0   \n",
       "3  c39b0c7dd5d4eb9a18e7db6ba2f258f8  ...                    0.0   \n",
       "4  c39b0c7dd5d4eb9a18e7db6ba2f258f8  ...                    0.0   \n",
       "\n",
       "   user-item_affinity_71  user-item_affinity_72  user-item_affinity_73  \\\n",
       "0                    0.0                    0.0                    0.0   \n",
       "1                    0.0                    0.0                    0.0   \n",
       "2                    0.0                    0.0                    0.0   \n",
       "3                    0.0                    0.0                    0.0   \n",
       "4                    0.0                    0.0                    0.0   \n",
       "\n",
       "   user-item_affinity_74  user-item_affinity_75  user-item_affinity_76  \\\n",
       "0                    0.0                    0.0                    0.0   \n",
       "1                    0.0                    0.0                    0.0   \n",
       "2                    0.0                    0.0                    0.0   \n",
       "3                    0.0                    0.0                    0.0   \n",
       "4                    0.0                    0.0                    0.0   \n",
       "\n",
       "   user-item_affinity_77  user-item_affinity_78  user-item_affinity_79  \n",
       "0                    0.0                    0.0                    0.0  \n",
       "1                    0.0                    0.0                    0.0  \n",
       "2                    0.0                    0.0                    0.0  \n",
       "3                    0.0                    0.0                    0.0  \n",
       "4                    0.0                    0.0                    0.0  \n",
       "\n",
       "[5 rows x 90 columns]"
      ]
     },
     "execution_count": 13,
     "metadata": {},
     "output_type": "execute_result"
    }
   ],
   "source": [
    "df.head()"
   ]
  },
  {
   "cell_type": "code",
   "execution_count": 40,
   "metadata": {},
   "outputs": [],
   "source": [
    "from obp.dataset import OpenBanditDataset\n",
    "from obp.policy import BernoulliTS\n",
    "from obp.simulator import run_bandit_simulation\n",
    "from obp.ope import OffPolicyEvaluation, InverseProbabilityWeighting, DirectMethod, ReplayMethod"
   ]
  },
  {
   "cell_type": "code",
   "execution_count": 48,
   "metadata": {},
   "outputs": [],
   "source": [
    "# (1) データの読み込み\n",
    "dataset = OpenBanditDataset(behavior_policy='random', campaign='women',data_path=Path('../dataset/open_bandit_dataset/'))\n",
    "bandit_feedback = dataset.obtain_batch_bandit_feedback()"
   ]
  },
  {
   "cell_type": "code",
   "execution_count": 49,
   "metadata": {},
   "outputs": [
    {
     "data": {
      "text/plain": [
       "{'n_rounds': 864585,\n",
       " 'n_actions': 46,\n",
       " 'action': array([13, 28, 14, ..., 33, 18, 42]),\n",
       " 'position': array([0, 1, 2, ..., 0, 1, 2]),\n",
       " 'reward': array([0, 0, 0, ..., 0, 0, 0]),\n",
       " 'pscore': array([0.02173913, 0.02173913, 0.02173913, ..., 0.02173913, 0.02173913,\n",
       "        0.02173913]),\n",
       " 'context': array([[0, 1, 0, ..., 0, 1, 0],\n",
       "        [0, 1, 0, ..., 0, 1, 0],\n",
       "        [0, 1, 0, ..., 0, 1, 0],\n",
       "        ...,\n",
       "        [0, 1, 0, ..., 0, 1, 0],\n",
       "        [0, 1, 0, ..., 0, 1, 0],\n",
       "        [0, 1, 0, ..., 0, 1, 0]], dtype=uint8),\n",
       " 'action_context': array([[ 0.00000000e+00,  7.00000000e+00,  1.00000000e+01,\n",
       "          0.00000000e+00, -3.70105705e-01],\n",
       "        [ 1.00000000e+00,  5.00000000e+00,  1.10000000e+01,\n",
       "          6.00000000e+00,  5.25195668e-01],\n",
       "        [ 2.00000000e+00,  3.00000000e+00,  1.00000000e+01,\n",
       "          0.00000000e+00, -1.34500080e-01],\n",
       "        [ 3.00000000e+00,  7.00000000e+00,  3.00000000e+00,\n",
       "          0.00000000e+00, -5.35029642e-01],\n",
       "        [ 4.00000000e+00,  5.00000000e+00,  1.30000000e+01,\n",
       "          3.00000000e+00, -2.52302892e-01],\n",
       "        [ 5.00000000e+00,  5.00000000e+00,  1.30000000e+01,\n",
       "          3.00000000e+00,  3.04238567e-02],\n",
       "        [ 6.00000000e+00,  5.00000000e+00,  1.30000000e+01,\n",
       "          3.00000000e+00, -1.34500080e-01],\n",
       "        [ 7.00000000e+00,  1.00000000e+00,  4.00000000e+00,\n",
       "          5.00000000e+00, -8.43673009e-01],\n",
       "        [ 8.00000000e+00,  1.00000000e+00,  4.00000000e+00,\n",
       "          5.00000000e+00, -8.43673009e-01],\n",
       "        [ 9.00000000e+00,  1.00000000e+00,  1.10000000e+01,\n",
       "          6.00000000e+00, -6.08067385e-01],\n",
       "        [ 1.00000000e+01,  1.00000000e+00,  1.10000000e+01,\n",
       "          6.00000000e+00, -6.08067385e-01],\n",
       "        [ 1.10000000e+01,  6.00000000e+00,  1.00000000e+01,\n",
       "          0.00000000e+00,  3.60271731e-01],\n",
       "        [ 1.20000000e+01,  6.00000000e+00,  1.30000000e+01,\n",
       "          3.00000000e+00,  3.60271731e-01],\n",
       "        [ 1.30000000e+01,  7.00000000e+00,  2.00000000e+00,\n",
       "          1.00000000e+00,  2.99905472e+00],\n",
       "        [ 1.40000000e+01,  3.00000000e+00,  2.00000000e+00,\n",
       "          1.00000000e+00,  1.34981535e+00],\n",
       "        [ 1.50000000e+01,  5.00000000e+00,  1.30000000e+01,\n",
       "          3.00000000e+00, -2.52302892e-01],\n",
       "        [ 1.60000000e+01,  3.00000000e+00,  6.00000000e+00,\n",
       "          2.00000000e+00,  6.90119605e-01],\n",
       "        [ 1.70000000e+01,  3.00000000e+00,  5.00000000e+00,\n",
       "          1.00000000e+00,  2.33935897e+00],\n",
       "        [ 1.80000000e+01,  5.00000000e+00,  1.40000000e+01,\n",
       "          5.00000000e+00, -3.93666267e-01],\n",
       "        [ 1.90000000e+01,  7.00000000e+00,  1.40000000e+01,\n",
       "          5.00000000e+00, -8.64877515e-01],\n",
       "        [ 2.00000000e+01,  6.00000000e+00,  1.40000000e+01,\n",
       "          5.00000000e+00,  8.55043542e-01],\n",
       "        [ 2.10000000e+01,  3.00000000e+00,  1.40000000e+01,\n",
       "          5.00000000e+00, -6.29271891e-01],\n",
       "        [ 2.20000000e+01,  6.00000000e+00,  1.10000000e+01,\n",
       "          6.00000000e+00,  8.55043542e-01],\n",
       "        [ 2.30000000e+01,  7.00000000e+00,  1.10000000e+01,\n",
       "          6.00000000e+00, -2.99424017e-01],\n",
       "        [ 2.40000000e+01,  5.00000000e+00,  9.00000000e+00,\n",
       "          5.00000000e+00, -7.23514141e-01],\n",
       "        [ 2.50000000e+01,  4.00000000e+00,  9.00000000e+00,\n",
       "          5.00000000e+00, -9.59119765e-01],\n",
       "        [ 2.60000000e+01,  4.00000000e+00,  0.00000000e+00,\n",
       "          5.00000000e+00, -6.29271891e-01],\n",
       "        [ 2.70000000e+01,  4.00000000e+00,  1.10000000e+01,\n",
       "          6.00000000e+00, -6.29271891e-01],\n",
       "        [ 2.80000000e+01,  2.00000000e+00,  4.00000000e+00,\n",
       "          5.00000000e+00,  3.36711168e-01],\n",
       "        [ 2.90000000e+01,  4.00000000e+00,  1.00000000e+00,\n",
       "          5.00000000e+00, -2.99424017e-01],\n",
       "        [ 3.00000000e+01,  4.00000000e+00,  1.00000000e+01,\n",
       "          0.00000000e+00, -2.99424017e-01],\n",
       "        [ 3.10000000e+01,  4.00000000e+00,  1.00000000e+00,\n",
       "          5.00000000e+00, -2.99424017e-01],\n",
       "        [ 3.20000000e+01,  2.00000000e+00,  1.20000000e+01,\n",
       "          4.00000000e+00,  1.71787231e-01],\n",
       "        [ 3.30000000e+01,  2.00000000e+00,  1.30000000e+01,\n",
       "          3.00000000e+00, -3.22984580e-01],\n",
       "        [ 3.40000000e+01,  2.00000000e+00,  5.00000000e+00,\n",
       "          1.00000000e+00,  5.01635105e-01],\n",
       "        [ 3.50000000e+01,  2.00000000e+00,  7.00000000e+00,\n",
       "          0.00000000e+00, -5.58590204e-01],\n",
       "        [ 3.60000000e+01,  5.00000000e+00,  1.00000000e+01,\n",
       "          0.00000000e+00, -1.34500080e-01],\n",
       "        [ 3.70000000e+01,  0.00000000e+00,  1.00000000e+01,\n",
       "          0.00000000e+00, -3.93666267e-01],\n",
       "        [ 3.80000000e+01,  8.00000000e+00,  1.10000000e+01,\n",
       "          6.00000000e+00, -3.70105705e-01],\n",
       "        [ 3.90000000e+01,  9.00000000e+00,  7.00000000e+00,\n",
       "          0.00000000e+00, -4.64347954e-01],\n",
       "        [ 4.00000000e+01,  6.00000000e+00,  2.00000000e+00,\n",
       "          1.00000000e+00,  4.15352228e+00],\n",
       "        [ 4.10000000e+01,  9.00000000e+00,  1.30000000e+01,\n",
       "          3.00000000e+00,  3.04238567e-02],\n",
       "        [ 4.20000000e+01,  4.00000000e+00,  9.00000000e+00,\n",
       "          5.00000000e+00, -4.87908517e-01],\n",
       "        [ 4.30000000e+01,  4.00000000e+00,  9.00000000e+00,\n",
       "          5.00000000e+00, -9.59119765e-01],\n",
       "        [ 4.40000000e+01,  4.00000000e+00,  0.00000000e+00,\n",
       "          5.00000000e+00, -4.64347954e-01],\n",
       "        [ 4.50000000e+01,  4.00000000e+00,  8.00000000e+00,\n",
       "          5.00000000e+00, -7.94195828e-01]])}"
      ]
     },
     "execution_count": 49,
     "metadata": {},
     "output_type": "execute_result"
    }
   ],
   "source": [
    "bandit_feedback"
   ]
  },
  {
   "cell_type": "code",
   "execution_count": 50,
   "metadata": {},
   "outputs": [
    {
     "name": "stderr",
     "output_type": "stream",
     "text": [
      "100%|██████████| 864585/864585 [00:20<00:00, 41278.43it/s]\n"
     ]
    }
   ],
   "source": [
    "# (2) 意思決定policyのオフラインシミュレーション\n",
    "counterfactual_policy = BernoulliTS(n_actions=dataset.n_actions, len_list=dataset.len_list)\n",
    "selected_actions = run_bandit_simulation(bandit_feedback=bandit_feedback, policy=counterfactual_policy)"
   ]
  },
  {
   "cell_type": "code",
   "execution_count": 51,
   "metadata": {},
   "outputs": [
    {
     "data": {
      "text/plain": [
       "array([[10,  5,  2],\n",
       "       [37, 32, 39],\n",
       "       [30,  6, 21],\n",
       "       ...,\n",
       "       [25, 37, 24],\n",
       "       [42, 12, 41],\n",
       "       [29, 15, 27]])"
      ]
     },
     "execution_count": 51,
     "metadata": {},
     "output_type": "execute_result"
    }
   ],
   "source": [
    "selected_actions"
   ]
  },
  {
   "cell_type": "code",
   "execution_count": 52,
   "metadata": {},
   "outputs": [
    {
     "name": "stderr",
     "output_type": "stream",
     "text": [
      "regression model is not given; model dependent estimators such as DM or DR cannot be used.\n"
     ]
    }
   ],
   "source": [
    "# (3) Off-Policy Evaluation\n",
    "ope = OffPolicyEvaluation(bandit_feedback=bandit_feedback, ope_estimators=[InverseProbabilityWeighting()])\n",
    "estimated_policy_value = ope.estimate_policy_values(selected_actions=selected_actions)"
   ]
  },
  {
   "cell_type": "code",
   "execution_count": 53,
   "metadata": {},
   "outputs": [
    {
     "data": {
      "text/plain": [
       "{'ipw': 0.005107652804524714}"
      ]
     },
     "execution_count": 53,
     "metadata": {},
     "output_type": "execute_result"
    }
   ],
   "source": [
    "estimated_policy_value"
   ]
  },
  {
   "cell_type": "code",
   "execution_count": 54,
   "metadata": {},
   "outputs": [
    {
     "name": "stdout",
     "output_type": "stream",
     "text": [
      "1.0607734806629834\n"
     ]
    }
   ],
   "source": [
    "relative_policy_value_of_bernoulli_ts = estimated_policy_value['ipw'] / bandit_feedback['reward'].mean()\n",
    "print(relative_policy_value_of_bernoulli_ts)"
   ]
  },
  {
   "cell_type": "code",
   "execution_count": null,
   "metadata": {},
   "outputs": [],
   "source": []
  }
 ],
 "metadata": {
  "kernelspec": {
   "display_name": "Python 3",
   "language": "python",
   "name": "python3"
  },
  "language_info": {
   "codemirror_mode": {
    "name": "ipython",
    "version": 3
   },
   "file_extension": ".py",
   "mimetype": "text/x-python",
   "name": "python",
   "nbconvert_exporter": "python",
   "pygments_lexer": "ipython3",
   "version": "3.8.0"
  }
 },
 "nbformat": 4,
 "nbformat_minor": 4
}
